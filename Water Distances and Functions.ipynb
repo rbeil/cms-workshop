{
 "cells": [
  {
   "cell_type": "markdown",
   "metadata": {},
   "source": [
    "## Water Distances"
   ]
  },
  {
   "cell_type": "markdown",
   "metadata": {},
   "source": [
    "### My Solution"
   ]
  },
  {
   "cell_type": "code",
   "execution_count": 3,
   "metadata": {},
   "outputs": [],
   "source": [
    "# import packages\n",
    "import os\n",
    "import numpy"
   ]
  },
  {
   "cell_type": "code",
   "execution_count": 14,
   "metadata": {},
   "outputs": [],
   "source": [
    "# open and save xyz data\n",
    "xyz_file = os.path.join('data','water.xyz')\n",
    "distances = numpy.genfromtxt(fname=xyz_file,dtype='unicode',skip_header=2)"
   ]
  },
  {
   "cell_type": "code",
   "execution_count": 15,
   "metadata": {},
   "outputs": [
    {
     "name": "stdout",
     "output_type": "stream",
     "text": [
      "[['O' '0.000000' '-0.007156' '0.965491']\n",
      " ['H1' '-0.000000' '0.001486' '-0.003471']\n",
      " ['H2' '0.000000' '0.931026' '1.207929']]\n"
     ]
    }
   ],
   "source": [
    "# check that it opens correctly\n",
    "print(distances)"
   ]
  },
  {
   "cell_type": "code",
   "execution_count": 16,
   "metadata": {},
   "outputs": [
    {
     "data": {
      "text/plain": [
       "3"
      ]
     },
     "execution_count": 16,
     "metadata": {},
     "output_type": "execute_result"
    }
   ],
   "source": [
    "# check that it has the correct number of rows\n",
    "len(distances)"
   ]
  },
  {
   "cell_type": "code",
   "execution_count": 18,
   "metadata": {},
   "outputs": [
    {
     "name": "stdout",
     "output_type": "stream",
     "text": [
      "['O' 'H1' 'H2']\n"
     ]
    }
   ],
   "source": [
    "# save the headers\n",
    "headers = distances[:,0]\n",
    "print(headers)"
   ]
  },
  {
   "cell_type": "code",
   "execution_count": 24,
   "metadata": {},
   "outputs": [
    {
     "name": "stdout",
     "output_type": "stream",
     "text": [
      "[['0.000000' '-0.007156' '0.965491']\n",
      " ['-0.000000' '0.001486' '-0.003471']\n",
      " ['0.000000' '0.931026' '1.207929']]\n",
      "-0.007156\n"
     ]
    }
   ],
   "source": [
    "# save the data and check that it prints the expected number\n",
    "data = distances[:,1:]\n",
    "print(data)\n",
    "print(data[0,1])"
   ]
  },
  {
   "cell_type": "code",
   "execution_count": 41,
   "metadata": {},
   "outputs": [
    {
     "name": "stdout",
     "output_type": "stream",
     "text": [
      "O O\t0.000 ang\n",
      "O H1\t0.969 ang\n",
      "O H2\t0.969 ang\n",
      "H1 O\t0.969 ang\n",
      "H1 H1\t0.000 ang\n",
      "H1 H2\t1.527 ang\n",
      "H2 O\t0.969 ang\n",
      "H2 H1\t1.527 ang\n",
      "H2 H2\t0.000 ang\n"
     ]
    }
   ],
   "source": [
    "# iterate over each row to solve for the distances between every atom\n",
    "num_rows = len(data) # how many rows there are\n",
    "datafile = open('atomic_distances_water.txt','w+') #create a file to save the data to\n",
    "data = data.astype(numpy.float) # change the data to floats\n",
    "\n",
    "# loop to calculate the distances and save to file\n",
    "for i in range(0,num_rows):\n",
    "    for j in range(0,num_rows):\n",
    "        dist = numpy.sqrt(((data[i,0]-data[j,0])**2)+((data[i,1]-data[j,1])**2)+((data[i,2]-data[j,2])**2))\n",
    "        datafile.write(F'{headers[i]} {headers[j]}\\t{dist:.3f} ang\\n')\n",
    "        print(F'{headers[i]} {headers[j]}\\t{dist:.3f} ang')\n",
    "        \n",
    "datafile.close() # needed to actually create the file"
   ]
  },
  {
   "cell_type": "markdown",
   "metadata": {},
   "source": [
    "### Readline Solution"
   ]
  },
  {
   "cell_type": "code",
   "execution_count": 42,
   "metadata": {},
   "outputs": [],
   "source": [
    "# print(file_location)\n",
    "# xyz_file = open(file_location, 'r')\n",
    "# data = xyz_file.readlines()\n",
    "# print(data)\n",
    "# num_atom = int(data[0])\n",
    "# print(num_atom)\n",
    "# coord_data = data[2:]\n",
    "# symbols = []\n",
    "# ccoordinates = []\n",
    "# for atom in coord_data:\n",
    "    # atom_data = atom.split()\n",
    "    # symbol = atom_data[0]\n",
    "    # symbols.append(symbol)\n",
    "    # x, y, z = atom_data[1], atom_data[2], atom_data[3]\n",
    "    # coordinates.append([float(x), float(y), float(z)])\n",
    "# for numA, atomA in enumerate(coordinates):\n",
    "    # for numB, atomB in enumerate(coordinates):\n",
    "        # x_distance = atomA[0] - atomB[0]\n",
    "        # y_distance = atomA[1] - atomB[1]\n",
    "        # z_distance = atomA[2] - atomB[2]\n",
    "        # distance = numpy.sqrt(x_distance**2 + y_distance**2 + z_distance**2)\n",
    "        # print(F'{symbols[numA]} to {symbols[numB]}: {distance:.3f}')"
   ]
  },
  {
   "cell_type": "markdown",
   "metadata": {},
   "source": [
    "### Only Print Unique Bonds"
   ]
  },
  {
   "cell_type": "code",
   "execution_count": 46,
   "metadata": {},
   "outputs": [
    {
     "name": "stdout",
     "output_type": "stream",
     "text": [
      "H1 O\t0.969 ang\n",
      "H2 O\t0.969 ang\n"
     ]
    }
   ],
   "source": [
    "# iterate over each row to solve for the distances between every atom\n",
    "num_rows = len(data) # how many rows there are\n",
    "data = data.astype(numpy.float) # change the data to floats\n",
    "\n",
    "# loop to calculate the distances and save to file\n",
    "for i in range(0,num_rows):\n",
    "    for j in range(0,num_rows):\n",
    "        if j<i:\n",
    "            dist = numpy.sqrt(((data[i,0]-data[j,0])**2)+((data[i,1]-data[j,1])**2)+((data[i,2]-data[j,2])**2))\n",
    "            if dist>0 and dist<1.5 :\n",
    "                print(F'{headers[i]} {headers[j]}\\t{dist:.3f} ang')"
   ]
  },
  {
   "cell_type": "markdown",
   "metadata": {},
   "source": [
    "### Functions"
   ]
  },
  {
   "cell_type": "code",
   "execution_count": 47,
   "metadata": {},
   "outputs": [],
   "source": [
    "# functions take certain inputs and give you certain outputs\n",
    "# cut and paste something more than two times, write it as a function\n",
    "# def function_name(parameters):\n",
    "    # lines of code to make function do what you want\n",
    "    # return value_to_return\n",
    "# functions can be reused and are easier to test"
   ]
  },
  {
   "cell_type": "code",
   "execution_count": 48,
   "metadata": {},
   "outputs": [],
   "source": [
    "def calculate_distance(atom1, atom2): # variables that can be used in code\n",
    "    x_distance = atom1[0]-atom2[0]\n",
    "    y_distance = atom1[1]-atom2[1]\n",
    "    z_distance = atom1[2]-atom2[2]\n",
    "    distance = numpy.sqrt(x_distance**2+y_distance**2+z_distance**2)\n",
    "    return distance"
   ]
  },
  {
   "cell_type": "code",
   "execution_count": 53,
   "metadata": {},
   "outputs": [
    {
     "name": "stdout",
     "output_type": "stream",
     "text": [
      "H1 to O : 0.969\n",
      "H2 to O : 0.969\n",
      "H2 to H1 : 1.527\n"
     ]
    }
   ],
   "source": [
    "for numA, atomA in enumerate(data):\n",
    "    for numB, atomB in enumerate(data):\n",
    "        if numB<numA:\n",
    "            distance_AB = calculate_distance(atomA, atomB)\n",
    "            print(F'{headers[numA]} to {headers[numB]} : {distance_AB:.3f}')"
   ]
  },
  {
   "cell_type": "code",
   "execution_count": 57,
   "metadata": {},
   "outputs": [],
   "source": [
    "def bond_check(bond_distance):\n",
    "    if bond_distance>0 and bond_distance<1.5:\n",
    "        return True\n",
    "    else:\n",
    "        return False"
   ]
  },
  {
   "cell_type": "code",
   "execution_count": 63,
   "metadata": {},
   "outputs": [
    {
     "name": "stdout",
     "output_type": "stream",
     "text": [
      "H1 to O : 0.969\n",
      "H2 to O : 0.969\n"
     ]
    }
   ],
   "source": [
    "for numA, atomA in enumerate(data):\n",
    "    for numB, atomB in enumerate(data):\n",
    "        if numB<numA:\n",
    "            distance_AB = calculate_distance(atomA, atomB)\n",
    "            if bond_check(distance_AB)==True:\n",
    "                print(F'{headers[numA]} to {headers[numB]} : {distance_AB:.3f}')"
   ]
  },
  {
   "cell_type": "code",
   "execution_count": 64,
   "metadata": {},
   "outputs": [],
   "source": [
    "# One function, one purpose. Each function should do only one thing"
   ]
  },
  {
   "cell_type": "code",
   "execution_count": 66,
   "metadata": {},
   "outputs": [
    {
     "name": "stdout",
     "output_type": "stream",
     "text": [
      "H1 to O : 0.969\n",
      "H2 to O : 0.969\n"
     ]
    }
   ],
   "source": [
    "# User-specified minimum and maximum values\n",
    "# Gives error if the minimum and maximum isn't specified\n",
    "def bond_check(bond_distance, minimum_value, maximum_value):\n",
    "    if bond_distance>minimum_value and bond_distance<maximum_value:\n",
    "        return True\n",
    "    else:\n",
    "        return False\n",
    "\n",
    "for numA, atomA in enumerate(data):\n",
    "    for numB, atomB in enumerate(data):\n",
    "        if numB<numA:\n",
    "            distance_AB = calculate_distance(atomA, atomB)\n",
    "            if bond_check(distance_AB,minimum_value=0, maximum_value=1.5)==True:\n",
    "                print(F'{headers[numA]} to {headers[numB]} : {distance_AB:.3f}')"
   ]
  },
  {
   "cell_type": "code",
   "execution_count": 67,
   "metadata": {},
   "outputs": [
    {
     "name": "stdout",
     "output_type": "stream",
     "text": [
      "H1 to O : 0.969\n",
      "H2 to O : 0.969\n"
     ]
    }
   ],
   "source": [
    "# Define a default value in the function\n",
    "def bond_check(bond_distance, minimum_value=0, maximum_value=1.5):\n",
    "    if bond_distance>minimum_value and bond_distance<maximum_value:\n",
    "        return True\n",
    "    else:\n",
    "        return False\n",
    "\n",
    "for numA, atomA in enumerate(data):\n",
    "    for numB, atomB in enumerate(data):\n",
    "        if numB<numA:\n",
    "            distance_AB = calculate_distance(atomA, atomB)\n",
    "            if bond_check(distance_AB)==True:\n",
    "                print(F'{headers[numA]} to {headers[numB]} : {distance_AB:.3f}')"
   ]
  },
  {
   "cell_type": "code",
   "execution_count": 68,
   "metadata": {},
   "outputs": [
    {
     "name": "stdout",
     "output_type": "stream",
     "text": [
      "H1 to O : 0.969\n",
      "H2 to O : 0.969\n",
      "H2 to H1 : 1.527\n"
     ]
    }
   ],
   "source": [
    "# only have to specify parameters if you don't want to use default\n",
    "for numA, atomA in enumerate(data):\n",
    "    for numB, atomB in enumerate(data):\n",
    "        if numB<numA:\n",
    "            distance_AB = calculate_distance(atomA, atomB)\n",
    "            if bond_check(distance_AB, maximum_value=1.6)==True:\n",
    "                print(F'{headers[numA]} to {headers[numB]} : {distance_AB:.3f}')"
   ]
  },
  {
   "cell_type": "code",
   "execution_count": null,
   "metadata": {},
   "outputs": [],
   "source": []
  }
 ],
 "metadata": {
  "kernelspec": {
   "display_name": "Python 3",
   "language": "python",
   "name": "python3"
  },
  "language_info": {
   "codemirror_mode": {
    "name": "ipython",
    "version": 3
   },
   "file_extension": ".py",
   "mimetype": "text/x-python",
   "name": "python",
   "nbconvert_exporter": "python",
   "pygments_lexer": "ipython3",
   "version": "3.7.3"
  }
 },
 "nbformat": 4,
 "nbformat_minor": 2
}
