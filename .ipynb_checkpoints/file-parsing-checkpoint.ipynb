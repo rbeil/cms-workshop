{
 "cells": [
  {
   "cell_type": "markdown",
   "metadata": {},
   "source": [
    "## File Parsing Lesson"
   ]
  },
  {
   "cell_type": "code",
   "execution_count": 10,
   "metadata": {},
   "outputs": [
    {
     "name": "stdout",
     "output_type": "stream",
     "text": [
      "\u001b[31mbutanol.out\u001b[m\u001b[m*  \u001b[31methanol.out\u001b[m\u001b[m*  \u001b[31mhexanol.out\u001b[m\u001b[m*  \u001b[31mnonanol.out\u001b[m\u001b[m*  \u001b[31mpentanol.out\u001b[m\u001b[m*\r\n",
      "\u001b[31mdecanol.out\u001b[m\u001b[m*  \u001b[31mheptanol.out\u001b[m\u001b[m* \u001b[31mmethanol.out\u001b[m\u001b[m* \u001b[31moctanol.out\u001b[m\u001b[m*  \u001b[31mpropanol.out\u001b[m\u001b[m*\r\n"
     ]
    }
   ],
   "source": [
    "ls"
   ]
  },
  {
   "cell_type": "code",
   "execution_count": 24,
   "metadata": {},
   "outputs": [
    {
     "name": "stdout",
     "output_type": "stream",
     "text": [
      "\u001b[31mbenzene.xyz\u001b[m\u001b[m*               \u001b[34moutfiles\u001b[m\u001b[m/\r\n",
      "\u001b[31mbuckminsterfullerene.xyz\u001b[m\u001b[m*  \u001b[31msapt.out\u001b[m\u001b[m*\r\n",
      "\u001b[31mdistance_data_headers.csv\u001b[m\u001b[m* \u001b[31mwater.xyz\u001b[m\u001b[m*\r\n"
     ]
    }
   ],
   "source": [
    "ls data"
   ]
  },
  {
   "cell_type": "code",
   "execution_count": 20,
   "metadata": {
    "scrolled": true
   },
   "outputs": [
    {
     "data": {
      "text/plain": [
       "'/Users/randibeil/Desktop/cms-workshop'"
      ]
     },
     "execution_count": 20,
     "metadata": {},
     "output_type": "execute_result"
    }
   ],
   "source": [
    "pwd"
   ]
  },
  {
   "cell_type": "code",
   "execution_count": 14,
   "metadata": {},
   "outputs": [],
   "source": [
    "import os"
   ]
  },
  {
   "cell_type": "code",
   "execution_count": 15,
   "metadata": {},
   "outputs": [
    {
     "name": "stdout",
     "output_type": "stream",
     "text": [
      "data/outfiles/ethanol.out\n"
     ]
    }
   ],
   "source": [
    "ethanol_file = os.path.join('data','outfiles','ethanol.out') # dot notation, modulename.functionname.functionname\n",
    "print(ethanol_file)"
   ]
  },
  {
   "cell_type": "code",
   "execution_count": 22,
   "metadata": {},
   "outputs": [],
   "source": [
    "outfile = open(ethanol_file,'r') # r' means to open for reading\n",
    "data = outfile.readlines() # has no input, so nothing in parenthesis. goes through file and each line in file is element in a list"
   ]
  },
  {
   "cell_type": "code",
   "execution_count": 23,
   "metadata": {},
   "outputs": [],
   "source": [
    "outfile.close()"
   ]
  },
  {
   "cell_type": "code",
   "execution_count": 62,
   "metadata": {},
   "outputs": [
    {
     "name": "stdout",
     "output_type": "stream",
     "text": [
      "270\n"
     ]
    }
   ],
   "source": [
    "print(len(data)) # number of lines in the file"
   ]
  },
  {
   "cell_type": "code",
   "execution_count": 36,
   "metadata": {},
   "outputs": [
    {
     "name": "stdout",
     "output_type": "stream",
     "text": [
      "  @DF-RHF Final Energy:  -154.09130176573018\n",
      "\n"
     ]
    }
   ],
   "source": [
    "for line in data:\n",
    "    if 'Final Energy' in line:\n",
    "        energy_line = line\n",
    "        print(energy_line)"
   ]
  },
  {
   "cell_type": "code",
   "execution_count": 40,
   "metadata": {},
   "outputs": [
    {
     "name": "stdout",
     "output_type": "stream",
     "text": [
      "['@DF-RHF', 'Final', 'Energy:', '-154.09130176573018']\n"
     ]
    }
   ],
   "source": [
    "words = energy_line.split() # space is default, if not use ' '\n",
    "print(words)"
   ]
  },
  {
   "cell_type": "code",
   "execution_count": 50,
   "metadata": {},
   "outputs": [
    {
     "name": "stdout",
     "output_type": "stream",
     "text": [
      "-154.09130176573018\n"
     ]
    }
   ],
   "source": [
    "energy = words[3] # energy = float(words[3]) will put energy as a float immediately\n",
    "print(energy) # energy is in type str"
   ]
  },
  {
   "cell_type": "code",
   "execution_count": 51,
   "metadata": {},
   "outputs": [
    {
     "data": {
      "text/plain": [
       "str"
      ]
     },
     "execution_count": 51,
     "metadata": {},
     "output_type": "execute_result"
    }
   ],
   "source": [
    "type(energy)"
   ]
  },
  {
   "cell_type": "code",
   "execution_count": 52,
   "metadata": {},
   "outputs": [],
   "source": [
    "energy = float(energy)"
   ]
  },
  {
   "cell_type": "code",
   "execution_count": 53,
   "metadata": {},
   "outputs": [
    {
     "data": {
      "text/plain": [
       "float"
      ]
     },
     "execution_count": 53,
     "metadata": {},
     "output_type": "execute_result"
    }
   ],
   "source": [
    "type(energy)"
   ]
  },
  {
   "cell_type": "code",
   "execution_count": 61,
   "metadata": {},
   "outputs": [
    {
     "name": "stdout",
     "output_type": "stream",
     "text": [
      "-96693.83277101335\n"
     ]
    }
   ],
   "source": [
    "print(energy*627.51)"
   ]
  },
  {
   "cell_type": "code",
   "execution_count": 63,
   "metadata": {},
   "outputs": [
    {
     "name": "stdout",
     "output_type": "stream",
     "text": [
      "77\n",
      "           H          0.278612764252     1.265047047666    -1.274211449480     1.007825032070\n",
      "\n"
     ]
    }
   ],
   "source": [
    "# finding the line number\n",
    "for linenum, line in enumerate(data):\n",
    "    if 'Center' in line:\n",
    "        center_line = linenum\n",
    "        print(center_line)\n",
    "        print(data[center_line+2])"
   ]
  },
  {
   "cell_type": "code",
   "execution_count": 59,
   "metadata": {},
   "outputs": [
    {
     "name": "stdout",
     "output_type": "stream",
     "text": [
      "       Center              X                  Y                   Z               Mass       \n",
      "\n"
     ]
    }
   ],
   "source": [
    "print(data[77])"
   ]
  },
  {
   "cell_type": "code",
   "execution_count": 60,
   "metadata": {},
   "outputs": [
    {
     "name": "stdout",
     "output_type": "stream",
     "text": [
      "           H          0.278612764252     1.265047047666    -1.274211449480     1.007825032070\n",
      "\n"
     ]
    }
   ],
   "source": [
    "print(data[79])"
   ]
  },
  {
   "cell_type": "markdown",
   "metadata": {},
   "source": [
    "### Parsing Multiple Files"
   ]
  },
  {
   "cell_type": "code",
   "execution_count": 71,
   "metadata": {},
   "outputs": [
    {
     "name": "stdout",
     "output_type": "stream",
     "text": [
      "data/outfiles/*.out\n"
     ]
    }
   ],
   "source": [
    "# If in a new notebook, make sure to import os\n",
    "file_location = os.path.join('data','outfiles','*.out')\n",
    "print(file_location)"
   ]
  },
  {
   "cell_type": "code",
   "execution_count": 72,
   "metadata": {},
   "outputs": [],
   "source": [
    "import glob"
   ]
  },
  {
   "cell_type": "code",
   "execution_count": 73,
   "metadata": {},
   "outputs": [
    {
     "name": "stdout",
     "output_type": "stream",
     "text": [
      "['data/outfiles/butanol.out', 'data/outfiles/decanol.out', 'data/outfiles/ethanol.out', 'data/outfiles/heptanol.out', 'data/outfiles/hexanol.out', 'data/outfiles/methanol.out', 'data/outfiles/nonanol.out', 'data/outfiles/octanol.out', 'data/outfiles/pentanol.out', 'data/outfiles/propanol.out']\n"
     ]
    }
   ],
   "source": [
    "filenames = glob.glob(file_location)\n",
    "print(filenames)"
   ]
  },
  {
   "cell_type": "code",
   "execution_count": 80,
   "metadata": {},
   "outputs": [
    {
     "name": "stdout",
     "output_type": "stream",
     "text": [
      "-232.1655798347283\n",
      "-466.3836241400086\n",
      "-154.09130176573018\n",
      "-349.27397687072676\n",
      "-310.2385332251633\n",
      "-115.04800861868374\n",
      "-427.3465180082815\n",
      "-388.3110864554743\n",
      "-271.20138119895074\n",
      "-193.12836249728798\n"
     ]
    }
   ],
   "source": [
    "for file in filenames:\n",
    "    outfile = open(file,'r')\n",
    "    data = outfile.readlines()\n",
    "    outfile.close()\n",
    "    for line in data:\n",
    "        if 'Final Energy' in line:\n",
    "            energy_line = line\n",
    "            words = energy_line.split()\n",
    "            energy = float(words[3])\n",
    "            print(energy)"
   ]
  },
  {
   "cell_type": "code",
   "execution_count": 81,
   "metadata": {},
   "outputs": [
    {
     "name": "stdout",
     "output_type": "stream",
     "text": [
      "data/outfiles/butanol.out\n"
     ]
    }
   ],
   "source": [
    "first_file = filenames[0]\n",
    "print(first_file)"
   ]
  },
  {
   "cell_type": "code",
   "execution_count": 82,
   "metadata": {},
   "outputs": [
    {
     "name": "stdout",
     "output_type": "stream",
     "text": [
      "butanol.out\n"
     ]
    }
   ],
   "source": [
    "file_name = os.path.basename(first_file)\n",
    "print(file_name)"
   ]
  },
  {
   "cell_type": "code",
   "execution_count": 87,
   "metadata": {},
   "outputs": [
    {
     "name": "stdout",
     "output_type": "stream",
     "text": [
      "butanol\n"
     ]
    }
   ],
   "source": [
    "molecule_name=file_name.split('.')[0]\n",
    "print(molecule_name)"
   ]
  },
  {
   "cell_type": "code",
   "execution_count": 88,
   "metadata": {},
   "outputs": [
    {
     "name": "stdout",
     "output_type": "stream",
     "text": [
      "butanol -232.1655798347283\n",
      "decanol -466.3836241400086\n",
      "ethanol -154.09130176573018\n",
      "heptanol -349.27397687072676\n",
      "hexanol -310.2385332251633\n",
      "methanol -115.04800861868374\n",
      "nonanol -427.3465180082815\n",
      "octanol -388.3110864554743\n",
      "pentanol -271.20138119895074\n",
      "propanol -193.12836249728798\n"
     ]
    }
   ],
   "source": [
    "# search through all files and get molecule names\n",
    "for file in filenames:\n",
    "    file_name = os.path.basename(file)\n",
    "    molecule_name=file_name.split('.')[0]\n",
    "    outfile = open(file,'r')\n",
    "    data = outfile.readlines()\n",
    "    outfile.close()\n",
    "    \n",
    "    # go through each line of the file and find and print the energy of the molecule\n",
    "    for line in data:\n",
    "        if 'Final Energy' in line:\n",
    "            energy_line = line\n",
    "            words = energy_line.split()\n",
    "            energy = float(words[3])\n",
    "            print(molecule_name, energy)"
   ]
  },
  {
   "cell_type": "code",
   "execution_count": 94,
   "metadata": {},
   "outputs": [],
   "source": [
    "# define a file to write the output to\n",
    "datafile = open('energies.txt','w+') # w+ means to create the file if it doesn't exist, a or a+ appends to a file. w overwrites a file, a adds to a file\n",
    "\n",
    "# search through all files and get molecule names\n",
    "for file in filenames:\n",
    "    file_name = os.path.basename(file)\n",
    "    molecule_name=file_name.split('.')[0]\n",
    "    outfile = open(file,'r')\n",
    "    data = outfile.readlines()\n",
    "    outfile.close()\n",
    "    \n",
    "    # go through each line of the file and find and print the energy of the molecule\n",
    "    for line in data:\n",
    "        if 'Final Energy' in line:\n",
    "            energy_line = line\n",
    "            words = energy_line.split()\n",
    "            energy = float(words[3])\n",
    "            datafile.write(F'{molecule_name} \\t{energy}\\n') # \\t is tab, \\n is new line\n",
    "            #python can only write strings to a file. that seems really dumb. F changes everything in the quotes to a string. to put the variables and not the words in it, put the variables in curly braces\n",
    "datafile.close()\n",
    "#must close the datafile for it to actually make the file"
   ]
  },
  {
   "cell_type": "code",
   "execution_count": null,
   "metadata": {},
   "outputs": [],
   "source": []
  }
 ],
 "metadata": {
  "kernelspec": {
   "display_name": "Python 3",
   "language": "python",
   "name": "python3"
  },
  "language_info": {
   "codemirror_mode": {
    "name": "ipython",
    "version": 3
   },
   "file_extension": ".py",
   "mimetype": "text/x-python",
   "name": "python",
   "nbconvert_exporter": "python",
   "pygments_lexer": "ipython3",
   "version": "3.7.3"
  }
 },
 "nbformat": 4,
 "nbformat_minor": 2
}
